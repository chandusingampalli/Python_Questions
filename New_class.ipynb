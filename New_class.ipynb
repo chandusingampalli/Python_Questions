{
 "cells": [
  {
   "cell_type": "markdown",
   "id": "17592bda",
   "metadata": {},
   "source": [
    "# Question 1"
   ]
  },
  {
   "cell_type": "code",
   "execution_count": 1,
   "id": "a8e17572",
   "metadata": {},
   "outputs": [
    {
     "name": "stdout",
     "output_type": "stream",
     "text": [
      "Enter the budget:29000\n",
      "You are not able to buy the mobile phone\n"
     ]
    }
   ],
   "source": [
    "budget = int(input(\"Enter the budget:\"))\n",
    "if(budget>=30000):\n",
    "    print(\"You are able to buy the mobile phone \")\n",
    "else:\n",
    "    print(\"You are not able to buy the mobile phone\")"
   ]
  },
  {
   "cell_type": "markdown",
   "id": "b8a40df5",
   "metadata": {},
   "source": [
    "# Question 2"
   ]
  },
  {
   "cell_type": "code",
   "execution_count": 8,
   "id": "14235a5c",
   "metadata": {},
   "outputs": [
    {
     "name": "stdout",
     "output_type": "stream",
     "text": [
      "Enter the storage of the mobile:23\n",
      "Enter the valid storage of the mobile phone \n"
     ]
    }
   ],
   "source": [
    "Storage = int(input(\"Enter the storage of the mobile:\"))\n",
    "if(Storage==32):\n",
    "    print(\"The price of the 32 GB mobile is 15000 \")\n",
    "elif(Storage==64):\n",
    "    print(\"The price of the 64 GB mobile is 20000 \")\n",
    "elif(Storage==128):\n",
    "    print(\"The price of the 128 GB mobile is 30000 \")\n",
    "elif(Storage==256):\n",
    "    print(\"The price of the 256 GB mobile is 40000 \")\n",
    "else:\n",
    "    print(\"Enter the valid storage of the mobile phone \")"
   ]
  },
  {
   "cell_type": "markdown",
   "id": "9a7a3271",
   "metadata": {},
   "source": [
    "# Question 3"
   ]
  },
  {
   "cell_type": "code",
   "execution_count": 13,
   "id": "8a9d969e",
   "metadata": {},
   "outputs": [
    {
     "name": "stdout",
     "output_type": "stream",
     "text": [
      "Enter the score of the candidate89\n",
      "He/she is eligible to appear in Second round\n",
      "Enter the score of the candidate89\n",
      "He/she is eligible to appear in Third round\n",
      "Enter the score of the candidate89\n",
      "He/she is Selected\n"
     ]
    }
   ],
   "source": [
    "Score_first_round = int(input(\"Enter the score of the candidate\"))\n",
    "if(Score_first_round>80):\n",
    "    print(\"He/she is eligible to appear in Second round\")\n",
    "else:\n",
    "    print(\"He/she is  not eligible to appear in Second round\")\n",
    "    \n",
    "Score_second_round = int(input(\"Enter the score of the candidate\"))\n",
    "\n",
    "if(Score_second_round>70):\n",
    "    print(\"He/she is eligible to appear in Third round\")\n",
    "else:\n",
    "    print(\"He/she is  not eligible to appear in Third round\")\n",
    "    \n",
    "Score_third_round = int(input(\"Enter the score of the candidate\"))\n",
    "\n",
    "if(Score_third_round>60):\n",
    "    print(\"He/she is Selected\")\n",
    "else:\n",
    "    print(\"He/she is  Rejected\")"
   ]
  },
  {
   "cell_type": "markdown",
   "id": "3ffc5ae7",
   "metadata": {},
   "source": [
    "# Question 4"
   ]
  },
  {
   "cell_type": "code",
   "execution_count": 16,
   "id": "e06c4add",
   "metadata": {},
   "outputs": [
    {
     "name": "stdout",
     "output_type": "stream",
     "text": [
      "Enter the marks:23\n",
      "You are not in any group\n"
     ]
    }
   ],
   "source": [
    "marks = int(input(\"Enter the marks:\"))\n",
    "if(marks>=80):\n",
    "    print(\"You are in Group 1\")\n",
    "elif(60<=marks<80):\n",
    "    print(\"You are in Group 2\")\n",
    "elif(40<=marks<60):\n",
    "    print(\"You are in group 3\")\n",
    "else:\n",
    "    print(\"You are not in any group\")\n",
    "    "
   ]
  },
  {
   "cell_type": "markdown",
   "id": "d178a5a2",
   "metadata": {},
   "source": [
    "# Question 5"
   ]
  },
  {
   "cell_type": "code",
   "execution_count": 24,
   "id": "ce12a08b",
   "metadata": {},
   "outputs": [
    {
     "name": "stdout",
     "output_type": "stream",
     "text": [
      "Enter username: njskx\n",
      "Incorrect username\n"
     ]
    }
   ],
   "source": [
    "def login_system():\n",
    "    username = input(\"Enter username: \")\n",
    "    \n",
    "    if username == \"admin\":\n",
    "        password = input(\"Enter password: \")\n",
    "        \n",
    "        if password == \"12345\":\n",
    "            print(\"Login successful\")\n",
    "        else:\n",
    "            print(\"Incorrect password\")\n",
    "    \n",
    "    else:\n",
    "        print(\"Incorrect username\")\n",
    "\n",
    "\n",
    "login_system()\n"
   ]
  },
  {
   "cell_type": "code",
   "execution_count": 26,
   "id": "e1bd8742",
   "metadata": {},
   "outputs": [
    {
     "name": "stderr",
     "output_type": "stream",
     "text": [
      "'git' is not recognized as an internal or external command,\n",
      "operable program or batch file.\n"
     ]
    }
   ],
   "source": []
  },
  {
   "cell_type": "code",
   "execution_count": null,
   "id": "950297ab",
   "metadata": {},
   "outputs": [],
   "source": []
  }
 ],
 "metadata": {
  "kernelspec": {
   "display_name": "Python 3 (ipykernel)",
   "language": "python",
   "name": "python3"
  },
  "language_info": {
   "codemirror_mode": {
    "name": "ipython",
    "version": 3
   },
   "file_extension": ".py",
   "mimetype": "text/x-python",
   "name": "python",
   "nbconvert_exporter": "python",
   "pygments_lexer": "ipython3",
   "version": "3.11.5"
  }
 },
 "nbformat": 4,
 "nbformat_minor": 5
}
